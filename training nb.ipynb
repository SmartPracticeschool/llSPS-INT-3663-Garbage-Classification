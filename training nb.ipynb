{
 "cells": [
  {
   "cell_type": "markdown",
   "metadata": {},
   "source": [
    "# CNN Model For Garbage Classification System"
   ]
  },
  {
   "cell_type": "code",
   "execution_count": 1,
   "metadata": {},
   "outputs": [
    {
     "name": "stderr",
     "output_type": "stream",
     "text": [
      "Using TensorFlow backend.\n",
      "C:\\Users\\nasih\\anaconda3\\lib\\site-packages\\tensorflow\\python\\framework\\dtypes.py:516: FutureWarning: Passing (type, 1) or '1type' as a synonym of type is deprecated; in a future version of numpy, it will be understood as (type, (1,)) / '(1,)type'.\n",
      "  _np_qint8 = np.dtype([(\"qint8\", np.int8, 1)])\n",
      "C:\\Users\\nasih\\anaconda3\\lib\\site-packages\\tensorflow\\python\\framework\\dtypes.py:517: FutureWarning: Passing (type, 1) or '1type' as a synonym of type is deprecated; in a future version of numpy, it will be understood as (type, (1,)) / '(1,)type'.\n",
      "  _np_quint8 = np.dtype([(\"quint8\", np.uint8, 1)])\n",
      "C:\\Users\\nasih\\anaconda3\\lib\\site-packages\\tensorflow\\python\\framework\\dtypes.py:518: FutureWarning: Passing (type, 1) or '1type' as a synonym of type is deprecated; in a future version of numpy, it will be understood as (type, (1,)) / '(1,)type'.\n",
      "  _np_qint16 = np.dtype([(\"qint16\", np.int16, 1)])\n",
      "C:\\Users\\nasih\\anaconda3\\lib\\site-packages\\tensorflow\\python\\framework\\dtypes.py:519: FutureWarning: Passing (type, 1) or '1type' as a synonym of type is deprecated; in a future version of numpy, it will be understood as (type, (1,)) / '(1,)type'.\n",
      "  _np_quint16 = np.dtype([(\"quint16\", np.uint16, 1)])\n",
      "C:\\Users\\nasih\\anaconda3\\lib\\site-packages\\tensorflow\\python\\framework\\dtypes.py:520: FutureWarning: Passing (type, 1) or '1type' as a synonym of type is deprecated; in a future version of numpy, it will be understood as (type, (1,)) / '(1,)type'.\n",
      "  _np_qint32 = np.dtype([(\"qint32\", np.int32, 1)])\n",
      "C:\\Users\\nasih\\anaconda3\\lib\\site-packages\\tensorflow\\python\\framework\\dtypes.py:525: FutureWarning: Passing (type, 1) or '1type' as a synonym of type is deprecated; in a future version of numpy, it will be understood as (type, (1,)) / '(1,)type'.\n",
      "  np_resource = np.dtype([(\"resource\", np.ubyte, 1)])\n",
      "C:\\Users\\nasih\\anaconda3\\lib\\site-packages\\tensorboard\\compat\\tensorflow_stub\\dtypes.py:541: FutureWarning: Passing (type, 1) or '1type' as a synonym of type is deprecated; in a future version of numpy, it will be understood as (type, (1,)) / '(1,)type'.\n",
      "  _np_qint8 = np.dtype([(\"qint8\", np.int8, 1)])\n",
      "C:\\Users\\nasih\\anaconda3\\lib\\site-packages\\tensorboard\\compat\\tensorflow_stub\\dtypes.py:542: FutureWarning: Passing (type, 1) or '1type' as a synonym of type is deprecated; in a future version of numpy, it will be understood as (type, (1,)) / '(1,)type'.\n",
      "  _np_quint8 = np.dtype([(\"quint8\", np.uint8, 1)])\n",
      "C:\\Users\\nasih\\anaconda3\\lib\\site-packages\\tensorboard\\compat\\tensorflow_stub\\dtypes.py:543: FutureWarning: Passing (type, 1) or '1type' as a synonym of type is deprecated; in a future version of numpy, it will be understood as (type, (1,)) / '(1,)type'.\n",
      "  _np_qint16 = np.dtype([(\"qint16\", np.int16, 1)])\n",
      "C:\\Users\\nasih\\anaconda3\\lib\\site-packages\\tensorboard\\compat\\tensorflow_stub\\dtypes.py:544: FutureWarning: Passing (type, 1) or '1type' as a synonym of type is deprecated; in a future version of numpy, it will be understood as (type, (1,)) / '(1,)type'.\n",
      "  _np_quint16 = np.dtype([(\"quint16\", np.uint16, 1)])\n",
      "C:\\Users\\nasih\\anaconda3\\lib\\site-packages\\tensorboard\\compat\\tensorflow_stub\\dtypes.py:545: FutureWarning: Passing (type, 1) or '1type' as a synonym of type is deprecated; in a future version of numpy, it will be understood as (type, (1,)) / '(1,)type'.\n",
      "  _np_qint32 = np.dtype([(\"qint32\", np.int32, 1)])\n",
      "C:\\Users\\nasih\\anaconda3\\lib\\site-packages\\tensorboard\\compat\\tensorflow_stub\\dtypes.py:550: FutureWarning: Passing (type, 1) or '1type' as a synonym of type is deprecated; in a future version of numpy, it will be understood as (type, (1,)) / '(1,)type'.\n",
      "  np_resource = np.dtype([(\"resource\", np.ubyte, 1)])\n"
     ]
    }
   ],
   "source": [
    "import keras\n",
    "from tensorflow.keras.layers import Conv2D, Flatten, MaxPooling2D, Dropout, BatchNormalization\n",
    "from keras.models import Sequential\n",
    "from keras.layers import Dense\n",
    "from keras.layers import Convolution2D\n",
    "from keras.layers import MaxPooling2D\n",
    "from keras.layers import Flatten\n",
    "from keras.layers import Dropout"
   ]
  },
  {
   "cell_type": "code",
   "execution_count": 2,
   "metadata": {},
   "outputs": [],
   "source": [
    "from keras.preprocessing.image import ImageDataGenerator\n",
    "train_datagen = ImageDataGenerator(rescale = 1./255, shear_range=0.2, zoom_range=0.2, horizontal_flip=True)\n",
    "test_datagen = ImageDataGenerator(rescale = 1./255)"
   ]
  },
  {
   "cell_type": "code",
   "execution_count": 3,
   "metadata": {},
   "outputs": [
    {
     "name": "stdout",
     "output_type": "stream",
     "text": [
      "Found 2056 images belonging to 6 classes.\n"
     ]
    }
   ],
   "source": [
    "x_train = train_datagen.flow_from_directory(r'C:\\Users\\nasih\\Desktop\\internships\\hellointern rsip\\final project\\Garbage classification dataset\\Train', target_size=(64,64), batch_size=64, class_mode='categorical')"
   ]
  },
  {
   "cell_type": "code",
   "execution_count": 4,
   "metadata": {},
   "outputs": [
    {
     "data": {
      "text/plain": [
       "{'Cardboard': 0, 'Glass': 1, 'Metal': 2, 'Paper': 3, 'Plastic': 4, 'Trash': 5}"
      ]
     },
     "execution_count": 4,
     "metadata": {},
     "output_type": "execute_result"
    }
   ],
   "source": [
    "x_train.class_indices"
   ]
  },
  {
   "cell_type": "code",
   "execution_count": 5,
   "metadata": {},
   "outputs": [
    {
     "name": "stdout",
     "output_type": "stream",
     "text": [
      "Found 471 images belonging to 6 classes.\n"
     ]
    }
   ],
   "source": [
    "x_test = test_datagen.flow_from_directory(r'C:\\Users\\nasih\\Desktop\\internships\\hellointern rsip\\final project\\Garbage classification dataset\\Test', target_size=(64,64), batch_size=64, class_mode='categorical')"
   ]
  },
  {
   "cell_type": "code",
   "execution_count": 6,
   "metadata": {},
   "outputs": [
    {
     "data": {
      "text/plain": [
       "(64, 64, 3)"
      ]
     },
     "execution_count": 6,
     "metadata": {},
     "output_type": "execute_result"
    }
   ],
   "source": [
    "x_train.image_shape"
   ]
  },
  {
   "cell_type": "code",
   "execution_count": 7,
   "metadata": {},
   "outputs": [
    {
     "data": {
      "text/plain": [
       "{'Cardboard': 0, 'Glass': 1, 'Metal': 2, 'Paper': 3, 'Plastic': 4, 'Trash': 5}"
      ]
     },
     "execution_count": 7,
     "metadata": {},
     "output_type": "execute_result"
    }
   ],
   "source": [
    "x_test.class_indices"
   ]
  },
  {
   "cell_type": "markdown",
   "metadata": {},
   "source": [
    "### creating the model"
   ]
  },
  {
   "cell_type": "code",
   "execution_count": 8,
   "metadata": {},
   "outputs": [
    {
     "name": "stdout",
     "output_type": "stream",
     "text": [
      "WARNING:tensorflow:From C:\\Users\\nasih\\anaconda3\\lib\\site-packages\\keras\\backend\\tensorflow_backend.py:74: The name tf.get_default_graph is deprecated. Please use tf.compat.v1.get_default_graph instead.\n",
      "\n"
     ]
    }
   ],
   "source": [
    "model = Sequential()"
   ]
  },
  {
   "cell_type": "code",
   "execution_count": 9,
   "metadata": {},
   "outputs": [
    {
     "name": "stdout",
     "output_type": "stream",
     "text": [
      "WARNING:tensorflow:From C:\\Users\\nasih\\anaconda3\\lib\\site-packages\\keras\\backend\\tensorflow_backend.py:517: The name tf.placeholder is deprecated. Please use tf.compat.v1.placeholder instead.\n",
      "\n",
      "WARNING:tensorflow:From C:\\Users\\nasih\\anaconda3\\lib\\site-packages\\keras\\backend\\tensorflow_backend.py:4138: The name tf.random_uniform is deprecated. Please use tf.random.uniform instead.\n",
      "\n"
     ]
    }
   ],
   "source": [
    "model.add(Convolution2D(32,(3,3), input_shape=(64,64,3), strides=(1,1), padding='same', activation = 'relu'))"
   ]
  },
  {
   "cell_type": "code",
   "execution_count": 10,
   "metadata": {
    "scrolled": true
   },
   "outputs": [
    {
     "name": "stdout",
     "output_type": "stream",
     "text": [
      "WARNING:tensorflow:From C:\\Users\\nasih\\anaconda3\\lib\\site-packages\\keras\\backend\\tensorflow_backend.py:3976: The name tf.nn.max_pool is deprecated. Please use tf.nn.max_pool2d instead.\n",
      "\n"
     ]
    }
   ],
   "source": [
    "model.add(MaxPooling2D(pool_size=(2,2)))"
   ]
  },
  {
   "cell_type": "code",
   "execution_count": 11,
   "metadata": {},
   "outputs": [],
   "source": [
    "model.add(Convolution2D(64,(3,3), input_shape=(64,64,3), strides=(1,1), padding='same', activation = 'relu'))"
   ]
  },
  {
   "cell_type": "code",
   "execution_count": 12,
   "metadata": {},
   "outputs": [],
   "source": [
    "model.add(MaxPooling2D(pool_size=(2,2)))"
   ]
  },
  {
   "cell_type": "code",
   "execution_count": 13,
   "metadata": {},
   "outputs": [],
   "source": [
    "model.add(Convolution2D(128,(3,3), input_shape=(64,64,3), strides=(1,1), padding='same', activation = 'relu'))"
   ]
  },
  {
   "cell_type": "code",
   "execution_count": 14,
   "metadata": {},
   "outputs": [],
   "source": [
    "model.add(MaxPooling2D(pool_size=(2,2)))"
   ]
  },
  {
   "cell_type": "code",
   "execution_count": 15,
   "metadata": {},
   "outputs": [],
   "source": [
    "model.add(Convolution2D(128,(3,3), input_shape=(64,64,3), strides=(1,1), padding='same', activation = 'relu'))"
   ]
  },
  {
   "cell_type": "code",
   "execution_count": 16,
   "metadata": {},
   "outputs": [],
   "source": [
    "model.add(MaxPooling2D(pool_size=(2,2)))"
   ]
  },
  {
   "cell_type": "code",
   "execution_count": 17,
   "metadata": {},
   "outputs": [
    {
     "name": "stdout",
     "output_type": "stream",
     "text": [
      "WARNING:tensorflow:From C:\\Users\\nasih\\anaconda3\\lib\\site-packages\\keras\\backend\\tensorflow_backend.py:133: The name tf.placeholder_with_default is deprecated. Please use tf.compat.v1.placeholder_with_default instead.\n",
      "\n",
      "WARNING:tensorflow:From C:\\Users\\nasih\\anaconda3\\lib\\site-packages\\keras\\backend\\tensorflow_backend.py:3445: calling dropout (from tensorflow.python.ops.nn_ops) with keep_prob is deprecated and will be removed in a future version.\n",
      "Instructions for updating:\n",
      "Please use `rate` instead of `keep_prob`. Rate should be set to `rate = 1 - keep_prob`.\n"
     ]
    }
   ],
   "source": [
    "model.add(Dropout(0.25))"
   ]
  },
  {
   "cell_type": "code",
   "execution_count": 18,
   "metadata": {},
   "outputs": [],
   "source": [
    "model.add(Flatten())"
   ]
  },
  {
   "cell_type": "code",
   "execution_count": 19,
   "metadata": {},
   "outputs": [
    {
     "name": "stderr",
     "output_type": "stream",
     "text": [
      "C:\\Users\\nasih\\anaconda3\\lib\\site-packages\\ipykernel_launcher.py:1: UserWarning: Update your `Dense` call to the Keras 2 API: `Dense(activation=\"relu\", units=512)`\n",
      "  \"\"\"Entry point for launching an IPython kernel.\n"
     ]
    }
   ],
   "source": [
    "model.add(Dense(output_dim=512, activation='relu'))"
   ]
  },
  {
   "cell_type": "code",
   "execution_count": 20,
   "metadata": {},
   "outputs": [
    {
     "name": "stderr",
     "output_type": "stream",
     "text": [
      "C:\\Users\\nasih\\anaconda3\\lib\\site-packages\\ipykernel_launcher.py:1: UserWarning: Update your `Dense` call to the Keras 2 API: `Dense(activation=\"softmax\", units=6)`\n",
      "  \"\"\"Entry point for launching an IPython kernel.\n"
     ]
    }
   ],
   "source": [
    "model.add(Dense(output_dim= 6,activation='softmax'))"
   ]
  },
  {
   "cell_type": "code",
   "execution_count": 21,
   "metadata": {},
   "outputs": [
    {
     "name": "stdout",
     "output_type": "stream",
     "text": [
      "WARNING:tensorflow:From C:\\Users\\nasih\\anaconda3\\lib\\site-packages\\keras\\optimizers.py:790: The name tf.train.Optimizer is deprecated. Please use tf.compat.v1.train.Optimizer instead.\n",
      "\n",
      "WARNING:tensorflow:From C:\\Users\\nasih\\anaconda3\\lib\\site-packages\\keras\\backend\\tensorflow_backend.py:3295: The name tf.log is deprecated. Please use tf.math.log instead.\n",
      "\n"
     ]
    }
   ],
   "source": [
    "model.compile(loss='categorical_crossentropy', optimizer ='adam', metrics= ['accuracy'])"
   ]
  },
  {
   "cell_type": "code",
   "execution_count": 22,
   "metadata": {},
   "outputs": [
    {
     "data": {
      "text/plain": [
       "32"
      ]
     },
     "execution_count": 22,
     "metadata": {},
     "output_type": "execute_result"
    }
   ],
   "source": [
    "2056//64"
   ]
  },
  {
   "cell_type": "code",
   "execution_count": 23,
   "metadata": {},
   "outputs": [
    {
     "name": "stdout",
     "output_type": "stream",
     "text": [
      "WARNING:tensorflow:From C:\\Users\\nasih\\anaconda3\\lib\\site-packages\\tensorflow\\python\\ops\\math_grad.py:1250: add_dispatch_support.<locals>.wrapper (from tensorflow.python.ops.array_ops) is deprecated and will be removed in a future version.\n",
      "Instructions for updating:\n",
      "Use tf.where in 2.0, which has the same broadcast rule as np.where\n",
      "Epoch 1/100\n",
      "33/33 [==============================] - 21s 640ms/step - loss: 1.6728 - acc: 0.2727 - val_loss: 1.5051 - val_acc: 0.3439\n",
      "Epoch 2/100\n",
      "33/33 [==============================] - 25s 746ms/step - loss: 1.4403 - acc: 0.4119 - val_loss: 1.7427 - val_acc: 0.3333\n",
      "Epoch 3/100\n",
      "33/33 [==============================] - 24s 741ms/step - loss: 1.3266 - acc: 0.4581 - val_loss: 1.5432 - val_acc: 0.3949\n",
      "Epoch 4/100\n",
      "33/33 [==============================] - 27s 828ms/step - loss: 1.2680 - acc: 0.4957 - val_loss: 1.3828 - val_acc: 0.4777\n",
      "Epoch 5/100\n",
      "33/33 [==============================] - 23s 709ms/step - loss: 1.1970 - acc: 0.5300 - val_loss: 1.6788 - val_acc: 0.3673\n",
      "Epoch 6/100\n",
      "33/33 [==============================] - 26s 780ms/step - loss: 1.1727 - acc: 0.5383 - val_loss: 1.2860 - val_acc: 0.5011\n",
      "Epoch 7/100\n",
      "33/33 [==============================] - 22s 656ms/step - loss: 1.0707 - acc: 0.5910 - val_loss: 1.2672 - val_acc: 0.5499\n",
      "Epoch 8/100\n",
      "33/33 [==============================] - 27s 821ms/step - loss: 1.0179 - acc: 0.6145 - val_loss: 1.1700 - val_acc: 0.5626\n",
      "Epoch 9/100\n",
      "33/33 [==============================] - 28s 861ms/step - loss: 0.9481 - acc: 0.6417 - val_loss: 1.2248 - val_acc: 0.5096\n",
      "Epoch 10/100\n",
      "33/33 [==============================] - 29s 865ms/step - loss: 0.9723 - acc: 0.6259 - val_loss: 1.5356 - val_acc: 0.4713\n",
      "Epoch 11/100\n",
      "33/33 [==============================] - 22s 664ms/step - loss: 1.0033 - acc: 0.6222 - val_loss: 1.1032 - val_acc: 0.5881\n",
      "Epoch 12/100\n",
      "33/33 [==============================] - 14s 431ms/step - loss: 0.8449 - acc: 0.6927 - val_loss: 1.2665 - val_acc: 0.5541\n",
      "Epoch 13/100\n",
      "33/33 [==============================] - 21s 641ms/step - loss: 0.8441 - acc: 0.6870 - val_loss: 0.9558 - val_acc: 0.6391\n",
      "Epoch 14/100\n",
      "33/33 [==============================] - 14s 439ms/step - loss: 0.8099 - acc: 0.7111 - val_loss: 0.9270 - val_acc: 0.6157\n",
      "Epoch 15/100\n",
      "33/33 [==============================] - 21s 622ms/step - loss: 0.7458 - acc: 0.7220 - val_loss: 1.0003 - val_acc: 0.6348\n",
      "Epoch 16/100\n",
      "33/33 [==============================] - 22s 670ms/step - loss: 0.7540 - acc: 0.7252 - val_loss: 0.9121 - val_acc: 0.6624\n",
      "Epoch 17/100\n",
      "33/33 [==============================] - 14s 432ms/step - loss: 0.6883 - acc: 0.7505 - val_loss: 0.9291 - val_acc: 0.6561\n",
      "Epoch 18/100\n",
      "33/33 [==============================] - 22s 672ms/step - loss: 0.6472 - acc: 0.7664 - val_loss: 0.8251 - val_acc: 0.7006\n",
      "Epoch 19/100\n",
      "33/33 [==============================] - 21s 634ms/step - loss: 0.6754 - acc: 0.7511 - val_loss: 0.8906 - val_acc: 0.6858\n",
      "Epoch 20/100\n",
      "33/33 [==============================] - 20s 620ms/step - loss: 0.5964 - acc: 0.7776 - val_loss: 0.9819 - val_acc: 0.6603\n",
      "Epoch 21/100\n",
      "33/33 [==============================] - 21s 644ms/step - loss: 0.6480 - acc: 0.7634 - val_loss: 0.9208 - val_acc: 0.6837\n",
      "Epoch 22/100\n",
      "33/33 [==============================] - 22s 669ms/step - loss: 0.5895 - acc: 0.7822 - val_loss: 0.7594 - val_acc: 0.7367\n",
      "Epoch 23/100\n",
      "33/33 [==============================] - 21s 641ms/step - loss: 0.5206 - acc: 0.8172 - val_loss: 0.8742 - val_acc: 0.7028\n",
      "Epoch 24/100\n",
      "33/33 [==============================] - 21s 646ms/step - loss: 0.5395 - acc: 0.7983 - val_loss: 0.8189 - val_acc: 0.7261\n",
      "Epoch 25/100\n",
      "33/33 [==============================] - 20s 616ms/step - loss: 0.4990 - acc: 0.8120 - val_loss: 0.8443 - val_acc: 0.7155\n",
      "Epoch 26/100\n",
      "33/33 [==============================] - 20s 619ms/step - loss: 0.4902 - acc: 0.8185 - val_loss: 0.9015 - val_acc: 0.7049\n",
      "Epoch 27/100\n",
      "33/33 [==============================] - 21s 651ms/step - loss: 0.4126 - acc: 0.8504 - val_loss: 0.7881 - val_acc: 0.7431\n",
      "Epoch 28/100\n",
      "33/33 [==============================] - 21s 629ms/step - loss: 0.4465 - acc: 0.8491 - val_loss: 0.9036 - val_acc: 0.6879\n",
      "Epoch 29/100\n",
      "33/33 [==============================] - 21s 650ms/step - loss: 0.4594 - acc: 0.8409 - val_loss: 0.7955 - val_acc: 0.7452\n",
      "Epoch 30/100\n",
      "33/33 [==============================] - 16s 494ms/step - loss: 0.4190 - acc: 0.8503 - val_loss: 0.7716 - val_acc: 0.7580\n",
      "Epoch 31/100\n",
      "33/33 [==============================] - 20s 619ms/step - loss: 0.3439 - acc: 0.8853 - val_loss: 0.8599 - val_acc: 0.7537\n",
      "Epoch 32/100\n",
      "33/33 [==============================] - 21s 648ms/step - loss: 0.3632 - acc: 0.8712 - val_loss: 1.0464 - val_acc: 0.6815\n",
      "Epoch 33/100\n",
      "33/33 [==============================] - 25s 754ms/step - loss: 0.3514 - acc: 0.8815 - val_loss: 0.9810 - val_acc: 0.6921\n",
      "Epoch 34/100\n",
      "33/33 [==============================] - 17s 509ms/step - loss: 0.3207 - acc: 0.8825 - val_loss: 0.8245 - val_acc: 0.7452\n",
      "Epoch 35/100\n",
      "33/33 [==============================] - 22s 668ms/step - loss: 0.3000 - acc: 0.8911 - val_loss: 1.3846 - val_acc: 0.6306\n",
      "Epoch 36/100\n",
      "33/33 [==============================] - 22s 652ms/step - loss: 0.3580 - acc: 0.8636 - val_loss: 0.8235 - val_acc: 0.7495\n",
      "Epoch 37/100\n",
      "33/33 [==============================] - 27s 827ms/step - loss: 0.2769 - acc: 0.9053 - val_loss: 0.8016 - val_acc: 0.7516\n",
      "Epoch 38/100\n",
      "33/33 [==============================] - 23s 690ms/step - loss: 0.2820 - acc: 0.8957 - val_loss: 0.7865 - val_acc: 0.7495\n",
      "Epoch 39/100\n",
      "33/33 [==============================] - 23s 695ms/step - loss: 0.2506 - acc: 0.9147 - val_loss: 0.8152 - val_acc: 0.7389\n",
      "Epoch 40/100\n",
      "33/33 [==============================] - 15s 465ms/step - loss: 0.2820 - acc: 0.8923 - val_loss: 0.9300 - val_acc: 0.7028\n",
      "Epoch 41/100\n",
      "33/33 [==============================] - 23s 693ms/step - loss: 0.3815 - acc: 0.8650 - val_loss: 0.7795 - val_acc: 0.7771\n",
      "Epoch 42/100\n",
      "33/33 [==============================] - 23s 696ms/step - loss: 0.2722 - acc: 0.9085 - val_loss: 0.8654 - val_acc: 0.7452\n",
      "Epoch 43/100\n",
      "33/33 [==============================] - 23s 698ms/step - loss: 0.2238 - acc: 0.9268 - val_loss: 1.0004 - val_acc: 0.7070\n",
      "Epoch 44/100\n",
      "33/33 [==============================] - 23s 707ms/step - loss: 0.3003 - acc: 0.8924 - val_loss: 1.1159 - val_acc: 0.6709\n",
      "Epoch 45/100\n",
      "33/33 [==============================] - 32s 959ms/step - loss: 0.1837 - acc: 0.9374 - val_loss: 0.8935 - val_acc: 0.7473\n",
      "Epoch 46/100\n",
      "33/33 [==============================] - 23s 695ms/step - loss: 0.1475 - acc: 0.9446 - val_loss: 1.1359 - val_acc: 0.7219\n",
      "Epoch 47/100\n",
      "33/33 [==============================] - 24s 724ms/step - loss: 0.1703 - acc: 0.9371 - val_loss: 0.8754 - val_acc: 0.7728\n",
      "Epoch 48/100\n",
      "33/33 [==============================] - 23s 695ms/step - loss: 0.2045 - acc: 0.9275 - val_loss: 0.9103 - val_acc: 0.7282\n",
      "Epoch 49/100\n",
      "33/33 [==============================] - 22s 669ms/step - loss: 0.1464 - acc: 0.9465 - val_loss: 0.8383 - val_acc: 0.7834\n",
      "Epoch 50/100\n",
      "33/33 [==============================] - 23s 684ms/step - loss: 0.1681 - acc: 0.9437 - val_loss: 0.8964 - val_acc: 0.7665\n",
      "Epoch 51/100\n",
      "33/33 [==============================] - 28s 850ms/step - loss: 0.1415 - acc: 0.9517 - val_loss: 0.8961 - val_acc: 0.7665\n",
      "Epoch 52/100\n",
      "33/33 [==============================] - 15s 443ms/step - loss: 0.1508 - acc: 0.9467 - val_loss: 0.9445 - val_acc: 0.7643\n",
      "Epoch 53/100\n",
      "33/33 [==============================] - 30s 908ms/step - loss: 0.1796 - acc: 0.9356 - val_loss: 0.9656 - val_acc: 0.7473\n",
      "Epoch 54/100\n",
      "33/33 [==============================] - 15s 459ms/step - loss: 0.1565 - acc: 0.9483 - val_loss: 0.8656 - val_acc: 0.7707\n",
      "Epoch 55/100\n",
      "33/33 [==============================] - 24s 732ms/step - loss: 0.0986 - acc: 0.9659 - val_loss: 0.9584 - val_acc: 0.7643\n",
      "Epoch 56/100\n",
      "33/33 [==============================] - 22s 668ms/step - loss: 0.1175 - acc: 0.9579 - val_loss: 0.8787 - val_acc: 0.7665\n",
      "Epoch 57/100\n",
      "33/33 [==============================] - 23s 710ms/step - loss: 0.1910 - acc: 0.9295 - val_loss: 1.0268 - val_acc: 0.7197\n",
      "Epoch 58/100\n",
      "33/33 [==============================] - 22s 668ms/step - loss: 0.2085 - acc: 0.9284 - val_loss: 0.9270 - val_acc: 0.7728\n",
      "Epoch 59/100\n",
      "33/33 [==============================] - 22s 663ms/step - loss: 0.1072 - acc: 0.9621 - val_loss: 0.9821 - val_acc: 0.7516\n",
      "Epoch 60/100\n",
      "33/33 [==============================] - 28s 840ms/step - loss: 0.1510 - acc: 0.9502 - val_loss: 0.8743 - val_acc: 0.7728\n",
      "Epoch 61/100\n",
      "33/33 [==============================] - 17s 502ms/step - loss: 0.1148 - acc: 0.9640 - val_loss: 0.8116 - val_acc: 0.7983\n",
      "Epoch 62/100\n",
      "33/33 [==============================] - 22s 677ms/step - loss: 0.0912 - acc: 0.9668 - val_loss: 0.8135 - val_acc: 0.7813\n",
      "Epoch 63/100\n",
      "33/33 [==============================] - 24s 717ms/step - loss: 0.0679 - acc: 0.9759 - val_loss: 0.9204 - val_acc: 0.7962\n",
      "Epoch 64/100\n",
      "33/33 [==============================] - 23s 706ms/step - loss: 0.1225 - acc: 0.9550 - val_loss: 0.8234 - val_acc: 0.7877\n",
      "Epoch 65/100\n",
      "33/33 [==============================] - 30s 899ms/step - loss: 0.0920 - acc: 0.9646 - val_loss: 0.9957 - val_acc: 0.7771\n",
      "Epoch 66/100\n",
      "33/33 [==============================] - 22s 657ms/step - loss: 0.1123 - acc: 0.9592 - val_loss: 0.9699 - val_acc: 0.7622\n",
      "Epoch 67/100\n",
      "33/33 [==============================] - 22s 666ms/step - loss: 0.1297 - acc: 0.9499 - val_loss: 0.8306 - val_acc: 0.7919\n",
      "Epoch 68/100\n",
      "33/33 [==============================] - 23s 685ms/step - loss: 0.1195 - acc: 0.9616 - val_loss: 1.0216 - val_acc: 0.7516\n",
      "Epoch 69/100\n",
      "33/33 [==============================] - 24s 716ms/step - loss: 0.0857 - acc: 0.9739 - val_loss: 0.8158 - val_acc: 0.7856\n",
      "Epoch 70/100\n",
      "33/33 [==============================] - 23s 682ms/step - loss: 0.0733 - acc: 0.9750 - val_loss: 0.9370 - val_acc: 0.7856\n",
      "Epoch 71/100\n",
      "33/33 [==============================] - 23s 712ms/step - loss: 0.1135 - acc: 0.9560 - val_loss: 0.8629 - val_acc: 0.7941\n",
      "Epoch 72/100\n",
      "33/33 [==============================] - 24s 735ms/step - loss: 0.0985 - acc: 0.9711 - val_loss: 0.9550 - val_acc: 0.7749\n",
      "Epoch 73/100\n",
      "33/33 [==============================] - 24s 731ms/step - loss: 0.1078 - acc: 0.9665 - val_loss: 1.1633 - val_acc: 0.7304\n",
      "Epoch 74/100\n",
      "33/33 [==============================] - 30s 916ms/step - loss: 0.1266 - acc: 0.9550 - val_loss: 0.7866 - val_acc: 0.7941\n",
      "Epoch 75/100\n",
      "33/33 [==============================] - 18s 540ms/step - loss: 0.0624 - acc: 0.9815 - val_loss: 0.8343 - val_acc: 0.8047\n",
      "Epoch 76/100\n",
      "33/33 [==============================] - 28s 837ms/step - loss: 0.0404 - acc: 0.9877 - val_loss: 0.9278 - val_acc: 0.8025\n",
      "Epoch 77/100\n",
      "33/33 [==============================] - 16s 478ms/step - loss: 0.0559 - acc: 0.9806 - val_loss: 0.8291 - val_acc: 0.8132\n",
      "Epoch 78/100\n",
      "33/33 [==============================] - 25s 752ms/step - loss: 0.0699 - acc: 0.9754 - val_loss: 0.9473 - val_acc: 0.7771\n",
      "Epoch 79/100\n",
      "33/33 [==============================] - 23s 689ms/step - loss: 0.0486 - acc: 0.9848 - val_loss: 1.0507 - val_acc: 0.7792\n",
      "Epoch 80/100\n",
      "33/33 [==============================] - 24s 737ms/step - loss: 0.0576 - acc: 0.9820 - val_loss: 1.1527 - val_acc: 0.7771\n",
      "Epoch 81/100\n",
      "33/33 [==============================] - 30s 913ms/step - loss: 0.2920 - acc: 0.9085 - val_loss: 1.3055 - val_acc: 0.6645\n",
      "Epoch 82/100\n",
      "33/33 [==============================] - 22s 674ms/step - loss: 0.1797 - acc: 0.9437 - val_loss: 0.9682 - val_acc: 0.7686\n",
      "Epoch 83/100\n",
      "33/33 [==============================] - 16s 489ms/step - loss: 0.1082 - acc: 0.9621 - val_loss: 0.7943 - val_acc: 0.7919\n",
      "Epoch 84/100\n",
      "33/33 [==============================] - 23s 712ms/step - loss: 0.0549 - acc: 0.9848 - val_loss: 0.7737 - val_acc: 0.8068\n",
      "Epoch 85/100\n",
      "33/33 [==============================] - 25s 746ms/step - loss: 0.0400 - acc: 0.9891 - val_loss: 0.9896 - val_acc: 0.8025\n",
      "Epoch 86/100\n",
      "33/33 [==============================] - 31s 940ms/step - loss: 0.0449 - acc: 0.9863 - val_loss: 1.0110 - val_acc: 0.7941\n",
      "Epoch 87/100\n",
      "33/33 [==============================] - 17s 500ms/step - loss: 0.0683 - acc: 0.9744 - val_loss: 1.0095 - val_acc: 0.7877\n",
      "Epoch 88/100\n",
      "33/33 [==============================] - 29s 892ms/step - loss: 0.0397 - acc: 0.9863 - val_loss: 0.9253 - val_acc: 0.7919\n",
      "Epoch 89/100\n",
      "33/33 [==============================] - 25s 750ms/step - loss: 0.0470 - acc: 0.9877 - val_loss: 1.0675 - val_acc: 0.7856\n",
      "Epoch 90/100\n",
      "33/33 [==============================] - 23s 711ms/step - loss: 0.0472 - acc: 0.9858 - val_loss: 1.0363 - val_acc: 0.7813\n",
      "Epoch 91/100\n",
      "33/33 [==============================] - 23s 709ms/step - loss: 0.0551 - acc: 0.9839 - val_loss: 1.0599 - val_acc: 0.7771\n",
      "Epoch 92/100\n",
      "33/33 [==============================] - 21s 651ms/step - loss: 0.0443 - acc: 0.9877 - val_loss: 0.9401 - val_acc: 0.7941\n",
      "Epoch 93/100\n",
      "33/33 [==============================] - 29s 890ms/step - loss: 0.0439 - acc: 0.9858 - val_loss: 0.9094 - val_acc: 0.8004\n",
      "Epoch 94/100\n",
      "33/33 [==============================] - 23s 708ms/step - loss: 0.0524 - acc: 0.9834 - val_loss: 0.8177 - val_acc: 0.8089\n",
      "Epoch 95/100\n",
      "33/33 [==============================] - 24s 741ms/step - loss: 0.0371 - acc: 0.9882 - val_loss: 1.1109 - val_acc: 0.7643\n",
      "Epoch 96/100\n",
      "33/33 [==============================] - 29s 865ms/step - loss: 0.0511 - acc: 0.9825 - val_loss: 1.0542 - val_acc: 0.7962\n",
      "Epoch 97/100\n",
      "33/33 [==============================] - 24s 723ms/step - loss: 0.0544 - acc: 0.9839 - val_loss: 1.0237 - val_acc: 0.7919\n",
      "Epoch 98/100\n",
      "33/33 [==============================] - 24s 713ms/step - loss: 0.0647 - acc: 0.9763 - val_loss: 0.9139 - val_acc: 0.8068\n",
      "Epoch 99/100\n",
      "33/33 [==============================] - 16s 483ms/step - loss: 0.0509 - acc: 0.9815 - val_loss: 1.0659 - val_acc: 0.7834\n",
      "Epoch 100/100\n",
      "33/33 [==============================] - 24s 725ms/step - loss: 0.0382 - acc: 0.9849 - val_loss: 1.0235 - val_acc: 0.7962\n"
     ]
    },
    {
     "data": {
      "text/plain": [
       "<keras.callbacks.History at 0x20296c44a08>"
      ]
     },
     "execution_count": 23,
     "metadata": {},
     "output_type": "execute_result"
    }
   ],
   "source": [
    "model.fit_generator(x_train, steps_per_epoch=len(x_train), epochs=100, validation_data=x_test, validation_steps=len(x_test))"
   ]
  },
  {
   "cell_type": "markdown",
   "metadata": {},
   "source": [
    "### saving the model"
   ]
  },
  {
   "cell_type": "code",
   "execution_count": 25,
   "metadata": {},
   "outputs": [],
   "source": [
    "model.save('garbagenew.h5')"
   ]
  },
  {
   "cell_type": "code",
   "execution_count": null,
   "metadata": {},
   "outputs": [],
   "source": []
  }
 ],
 "metadata": {
  "kernelspec": {
   "display_name": "Python 3",
   "language": "python",
   "name": "python3"
  },
  "language_info": {
   "codemirror_mode": {
    "name": "ipython",
    "version": 3
   },
   "file_extension": ".py",
   "mimetype": "text/x-python",
   "name": "python",
   "nbconvert_exporter": "python",
   "pygments_lexer": "ipython3",
   "version": "3.7.6"
  }
 },
 "nbformat": 4,
 "nbformat_minor": 4
}
